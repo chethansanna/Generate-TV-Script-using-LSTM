{
  "nbformat": 4,
  "nbformat_minor": 0,
  "metadata": {
    "kernelspec": {
      "display_name": "Python 3",
      "language": "python",
      "name": "python3"
    },
    "language_info": {
      "codemirror_mode": {
        "name": "ipython",
        "version": 3
      },
      "file_extension": ".py",
      "mimetype": "text/x-python",
      "name": "python",
      "nbconvert_exporter": "python",
      "pygments_lexer": "ipython3",
      "version": "3.6.3"
    },
    "colab": {
      "name": "dlnd_tv_script_generation.ipynb",
      "provenance": [],
      "collapsed_sections": []
    }
  },
  "cells": [
    {
      "cell_type": "markdown",
      "metadata": {
        "id": "dT1Dpr2Wio7T"
      },
      "source": [
        "# TV Script Generation\n",
        "\n",
        "In this project, [Seinfeld](https://en.wikipedia.org/wiki/Seinfeld) TV scripts are generated using RNNs.  The data is from the kaggle [Seinfeld dataset](https://www.kaggle.com/thec03u5/seinfeld-chronicles#scripts.csv) of scripts from 9 seasons.  The Neural Network build here will generate a new, \"fake\" TV script, based on patterns it recognizes in this training data.\n",
        "\n",
        "## Loading the Data\n",
        "\n",
        "As a first step, the data from `./data/Seinfeld_Scripts.txt` is loaded and display some samples. "
      ]
    },
    {
      "cell_type": "code",
      "metadata": {
        "id": "QIjsnCk4io7Z"
      },
      "source": [
        "# load in data\n",
        "def load_data(path):\n",
        "    \"\"\"\n",
        "    Load Dataset from File\n",
        "    \"\"\"\n",
        "    input_file = os.path.join(path)\n",
        "    with open(input_file, \"r\") as f:\n",
        "        data = f.read()\n",
        "\n",
        "    return data\n",
        "  \n",
        "data_dir = './data/Seinfeld_Scripts.txt'\n",
        "text = load_data(data_dir)"
      ],
      "execution_count": null,
      "outputs": []
    },
    {
      "cell_type": "markdown",
      "metadata": {
        "id": "UZphAJS2io7c"
      },
      "source": [
        "## Exploring the Data\n",
        "Use the tuple `view_line_range` to view different parts of the data. This will give a sense of the data which will be used for training the model. It can be noticed, for example, that the data is all lowercase text, and each new line of dialogue is separated by a newline character `\\n`.\n",
        "\n",
        "Some of the statistics about the dataset could also be viewed."
      ]
    },
    {
      "cell_type": "code",
      "metadata": {
        "id": "RmyaS14yio7d",
        "outputId": "38900a82-a55f-4b7b-9507-12848cf359b9"
      },
      "source": [
        "view_line_range = (0, 10)\n",
        "\n",
        "import numpy as np\n",
        "\n",
        "print('Dataset Stats')\n",
        "print('Roughly the number of unique words: {}'.format(len({word: None for word in text.split()})))\n",
        "\n",
        "lines = text.split('\\n')\n",
        "print('Number of lines: {}'.format(len(lines)))\n",
        "word_count_line = [len(line.split()) for line in lines]\n",
        "print('Average number of words in each line: {}'.format(np.average(word_count_line)))\n",
        "\n",
        "print()\n",
        "print('The lines {} to {}:'.format(*view_line_range))\n",
        "print('\\n'.join(text.split('\\n')[view_line_range[0]:view_line_range[1]]))"
      ],
      "execution_count": null,
      "outputs": [
        {
          "output_type": "stream",
          "text": [
            "Dataset Stats\n",
            "Roughly the number of unique words: 46367\n",
            "Number of lines: 109233\n",
            "Average number of words in each line: 5.544240293684143\n",
            "\n",
            "The lines 0 to 10:\n",
            "jerry: do you know what this is all about? do you know, why were here? to be out, this is out...and out is one of the single most enjoyable experiences of life. people...did you ever hear people talking about we should go out? this is what theyre talking about...this whole thing, were all out now, no one is home. not one person here is home, were all out! there are people trying to find us, they dont know where we are. (on an imaginary phone) did you ring?, i cant find him. where did he go? he didnt tell me where he was going. he must have gone out. you wanna go out you get ready, you pick out the clothes, right? you take the shower, you get all ready, get the cash, get your friends, the car, the spot, the reservation...then youre standing around, what do you do? you go we gotta be getting back. once youre out, you wanna get back! you wanna go to sleep, you wanna get up, you wanna go out again tomorrow, right? where ever you are in life, its my feeling, youve gotta go. \n",
            "\n",
            "jerry: (pointing at georges shirt) see, to me, that button is in the worst possible spot. the second button literally makes or breaks the shirt, look at it. its too high! its in no-mans-land. you look like you live with your mother. \n",
            "\n",
            "george: are you through? \n",
            "\n",
            "jerry: you do of course try on, when you buy? \n",
            "\n",
            "george: yes, it was purple, i liked it, i dont actually recall considering the buttons. \n",
            "\n"
          ],
          "name": "stdout"
        }
      ]
    },
    {
      "cell_type": "markdown",
      "metadata": {
        "id": "zU2V2Tp-io7f"
      },
      "source": [
        "---\n",
        "## Implementing Pre-processing Functions\n",
        "The first thing to do to any dataset is pre-processing.  Implementing the following pre-processing functions below:\n",
        "- Lookup Table\n",
        "- Tokenize Punctuation\n",
        "\n",
        "### Lookup Table\n",
        "To create a word embedding, first the words are transformed to ids.  In this function, two dictionaries are created:\n",
        "- Dictionary to go from the words to an id, and is called `vocab_to_int`\n",
        "- Dictionary to go from the id to word, and is called `int_to_vocab`\n",
        "\n",
        "These dictionaries are returned as the following **tuple** `(vocab_to_int, int_to_vocab)`"
      ]
    },
    {
      "cell_type": "code",
      "metadata": {
        "id": "u9tuXkQSio7g"
      },
      "source": [
        "from collections import Counter\n",
        "\n",
        "def create_lookup_tables(text):\n",
        "    \"\"\"\n",
        "    Create lookup tables for vocabulary\n",
        "\n",
        "    Input: \n",
        "    text - The text of tv scripts split into words\n",
        "\n",
        "    Output:\n",
        "    return - A tuple of dicts (vocab_to_int, int_to_vocab)\n",
        "    \"\"\"\n",
        "\n",
        "    word_count = Counter(text)\n",
        "    sorted_vocab = sorted(word_count, key=word_count.get, reverse=True)\n",
        "    int_to_vocab = {pos: word for pos, word in enumerate(sorted_vocab)}\n",
        "    vocab_to_int = {word: pos for pos, word in int_to_vocab.items()}\n",
        "    \n",
        "    # return tuple\n",
        "    return (vocab_to_int, int_to_vocab)\n"
      ],
      "execution_count": null,
      "outputs": []
    },
    {
      "cell_type": "markdown",
      "metadata": {
        "id": "3mZbgvGUio7h"
      },
      "source": [
        "### Tokenize Punctuation\n",
        "While splitting the script into a word array using spaces as delimiters, punctuations like periods and exclamation marks can create multiple ids for the same word. For example, \"bye\" and \"bye!\" would generate two different word ids.\n",
        "\n",
        "So, implementing the function `token_lookup` to return a dict that will be used to tokenize symbols like \"!\" into \"||Exclamation_Mark||\".  Creating a dictionary for the following symbols where the symbol is the key and value is the token:\n",
        "- Period ( **.** )\n",
        "- Comma ( **,** )\n",
        "- Quotation Mark ( **\"** )\n",
        "- Semicolon ( **;** )\n",
        "- Exclamation mark ( **!** )\n",
        "- Question mark ( **?** )\n",
        "- Left Parentheses ( **(** )\n",
        "- Right Parentheses ( **)** )\n",
        "- Dash ( **-** )\n",
        "- Return ( **\\n** )\n",
        "\n",
        "This dictionary will be used to tokenize the symbols and add the delimiter (space) around it.  This separates each symbols as its own word, making it easier for the neural network to predict the next word. To make sure not to use a value that could be confused as a word; for example, instead of using the value \"dash\", using something like \"||dash||\"."
      ]
    },
    {
      "cell_type": "code",
      "metadata": {
        "id": "y4NEyCFyio7j"
      },
      "source": [
        "def token_lookup():\n",
        "    \"\"\"\n",
        "    Generate a dict to turn punctuation into a token.\n",
        "    \n",
        "    Output:\n",
        "    return - Tokenized dictionary where the key is the punctuation and the value is the token\n",
        "    \"\"\"\n",
        "  \n",
        "    punctuation_dict = {'.':'||Period||', \n",
        "                       ',': '||Comma||',\n",
        "                       '\"': '||QuotationMark||',\n",
        "                       ';': '||Semicolon||',\n",
        "                       '!': '||ExclamationMark||',\n",
        "                       '?': '||QuestionMark||',\n",
        "                       '(': '||LeftParentheses||',\n",
        "                       ')': '||RightParentheses||',\n",
        "                       '-': '||Dash||',\n",
        "                       '\\n': '||Return||'}\n",
        "    \n",
        "    return punctuation_dict"
      ],
      "execution_count": null,
      "outputs": []
    },
    {
      "cell_type": "markdown",
      "metadata": {
        "id": "ZSFmiT81io7k"
      },
      "source": [
        "## Pre-processing all the data and saving it\n",
        "\n",
        "The function `preprocess_and_save_data` will pre-process all the data and save it to file 'preprocess.p'."
      ]
    },
    {
      "cell_type": "code",
      "metadata": {
        "id": "R3Q8FlZNio7l"
      },
      "source": [
        "# pre-process training data\n",
        "\n",
        "SPECIAL_WORDS = {'PADDING': '<PAD>'}\n",
        "\n",
        "def preprocess_and_save_data(dataset_path, token_lookup, create_lookup_tables):\n",
        "    \"\"\"\n",
        "    Preprocess Text Data\n",
        "    \"\"\"\n",
        "    text = load_data(dataset_path)\n",
        "    \n",
        "    # Ignore notice, since it is not useful for analysing the data\n",
        "    text = text[81:]\n",
        "\n",
        "    token_dict = token_lookup()\n",
        "    for key, token in token_dict.items():\n",
        "        text = text.replace(key, ' {} '.format(token))\n",
        "\n",
        "    text = text.lower()\n",
        "    text = text.split()\n",
        "\n",
        "    vocab_to_int, int_to_vocab = create_lookup_tables(text + list(SPECIAL_WORDS.values()))\n",
        "    int_text = [vocab_to_int[word] for word in text]\n",
        "    pickle.dump((int_text, vocab_to_int, int_to_vocab, token_dict), open('preprocess.p', 'wb'))"
      ],
      "execution_count": null,
      "outputs": []
    },
    {
      "cell_type": "code",
      "metadata": {
        "id": "sZ7pdZcjs6WC"
      },
      "source": [
        "preprocess_and_save_data(data_dir, token_lookup, create_lookup_tables)"
      ],
      "execution_count": null,
      "outputs": []
    },
    {
      "cell_type": "markdown",
      "metadata": {
        "id": "2_LKd061io7m"
      },
      "source": [
        "# Check Point\n",
        "This is the checkpoint to load the pre-processed data directly from the saved file from the disk instead of carrying out all the above steps. The function 'load_preprocess' in the cell below loads the pre-processed data from 'preprocess.p' file."
      ]
    },
    {
      "cell_type": "code",
      "metadata": {
        "id": "QzYEOBewio7n"
      },
      "source": [
        "def load_preprocess():\n",
        "    \"\"\"\n",
        "    Load the Preprocessed Training data and return them in batches of <batch_size> or less\n",
        "    \"\"\"\n",
        "    return pickle.load(open('preprocess.p', mode='rb'))"
      ],
      "execution_count": null,
      "outputs": []
    },
    {
      "cell_type": "code",
      "metadata": {
        "id": "8vA6O18hvi4c"
      },
      "source": [
        "int_text, vocab_to_int, int_to_vocab, token_dict = load_preprocess()"
      ],
      "execution_count": null,
      "outputs": []
    },
    {
      "cell_type": "markdown",
      "metadata": {
        "id": "a2HYSvGKio7p"
      },
      "source": [
        "## Building the Neural Network\n",
        "In this section, the components necessary to build an RNN will be built by implementing the RNN Module and forward and backpropagation functions.\n",
        "\n",
        "#### Check Access to GPU"
      ]
    },
    {
      "cell_type": "code",
      "metadata": {
        "id": "FAXFMj_zio7q"
      },
      "source": [
        "import torch\n",
        "\n",
        "# Check for a GPU\n",
        "train_on_gpu = torch.cuda.is_available()\n",
        "if not train_on_gpu:\n",
        "    print('No GPU found. Please use a GPU to train your neural network.')"
      ],
      "execution_count": null,
      "outputs": []
    },
    {
      "cell_type": "markdown",
      "metadata": {
        "id": "rg06u6r4io7r"
      },
      "source": [
        "## **Input**\n",
        "Let's start with the preprocessed input data. Using [TensorDataset](http://pytorch.org/docs/master/data.html#torch.utils.data.TensorDataset) provides a known format to our dataset; in combination with [DataLoader](http://pytorch.org/docs/master/data.html#torch.utils.data.DataLoader), it will handle batching, shuffling, and other dataset iteration functions.\n",
        "\n",
        "Creating data with TensorDataset by passing in feature and target tensors. Then creating a DataLoader.\n",
        "\n",
        "#### Batching\n",
        "Implementing the `batch_data` function to batch `words` data into chunks of size `batch_size` using the `TensorDataset` and `DataLoader` classes.\n",
        "\n",
        "\n",
        "For example, if the input are:\n",
        "```\n",
        "words = [1, 2, 3, 4, 5, 6, 7]\n",
        "sequence_length = 4\n",
        "```\n",
        "\n",
        "Then the first `feature_tensor` would contain the values:\n",
        "```\n",
        "[1, 2, 3, 4]\n",
        "```\n",
        "And the corresponding `target_tensor` would just be the next \"word\"/tokenized word value:\n",
        "```\n",
        "5\n",
        "```\n",
        "This continues with the second `feature_tensor`, `target_tensor` being:\n",
        "```\n",
        "[2, 3, 4, 5]  # features\n",
        "6             # target\n",
        "```\n",
        "and so on"
      ]
    },
    {
      "cell_type": "code",
      "metadata": {
        "id": "Zxd7894lio7s"
      },
      "source": [
        "from torch.utils.data import TensorDataset, DataLoader\n",
        "\n",
        "\n",
        "def batch_data(words, sequence_length, batch_size):\n",
        "    \"\"\"\n",
        "    Batch the neural network data using DataLoader\n",
        "    \n",
        "    Input:\n",
        "    words - The word ids of the TV scripts\n",
        "    sequence_length - The sequence length of each batch\n",
        "    batch_size - The size of each batch; the number of sequences in a batch\n",
        "    \n",
        "    Output:\n",
        "    return - DataLoader with batched data\n",
        "    \"\"\"\n",
        "\n",
        "    n_batches = len(words)//batch_size\n",
        "    # only full batches\n",
        "    words = words[:n_batches*batch_size]\n",
        "    \n",
        "    feature_tensors = []\n",
        "    target_tensors = []\n",
        "    i=0\n",
        "    for _ in words:\n",
        "        feature_tensors.append(words[:sequence_length])\n",
        "        target_tensors.append(words[sequence_length])\n",
        "        words = words[i+1:]\n",
        "        if len(words) < sequence_length+1:\n",
        "            break\n",
        "\n",
        "    data = TensorDataset(torch.from_numpy(np.asarray(feature_tensors)), torch.from_numpy(np.asarray(target_tensors)))\n",
        "    data_loader = DataLoader(data, batch_size=batch_size, shuffle=True)\n",
        "    \n",
        "    # return a dataloader\n",
        "    return data_loader"
      ],
      "execution_count": null,
      "outputs": []
    },
    {
      "cell_type": "markdown",
      "metadata": {
        "id": "vI1_5SsVio7t"
      },
      "source": [
        "### Testing the dataloader \n",
        "\n",
        "Below, is some test text data and defining a dataloader using the function defined above. Then, getting some sample batch of inputs `sample_x` and targets `sample_y` from the dataloader.\n",
        "\n",
        "The code should return something like the following to know if the implemented functions works as expected (likely in a different order, if data is shuffled):\n",
        "\n",
        "```\n",
        "torch.Size([10, 5])\n",
        "tensor([[ 28,  29,  30,  31,  32],\n",
        "        [ 21,  22,  23,  24,  25],\n",
        "        [ 17,  18,  19,  20,  21],\n",
        "        [ 34,  35,  36,  37,  38],\n",
        "        [ 11,  12,  13,  14,  15],\n",
        "        [ 23,  24,  25,  26,  27],\n",
        "        [  6,   7,   8,   9,  10],\n",
        "        [ 38,  39,  40,  41,  42],\n",
        "        [ 25,  26,  27,  28,  29],\n",
        "        [  7,   8,   9,  10,  11]])\n",
        "\n",
        "torch.Size([10])\n",
        "tensor([ 33,  26,  22,  39,  16,  28,  11,  43,  30,  12])\n",
        "```\n",
        "\n",
        "### Sizes\n",
        "The sample_x should be of size `(batch_size, sequence_length)` or (10, 5) in this case and sample_y should just have one dimension: batch_size (10). \n",
        "\n",
        "### Values\n",
        "\n",
        "Notice that the targets, sample_y, are the *next* value in the ordered test_text data. So, for an input sequence `[ 28,  29,  30,  31,  32]` that ends with the value `32`, the corresponding output should be `33`."
      ]
    },
    {
      "cell_type": "code",
      "metadata": {
        "id": "RFlfwER_io7v",
        "outputId": "44a0b156-873a-4f5a-eaba-40ea1f4d9aa6"
      },
      "source": [
        "# test dataloader\n",
        "\n",
        "test_text = range(50)\n",
        "t_loader = batch_data(test_text, sequence_length=5, batch_size=10)\n",
        "\n",
        "data_iter = iter(t_loader)\n",
        "sample_x, sample_y = data_iter.next()\n",
        "\n",
        "print(sample_x.shape)\n",
        "print(sample_x)\n",
        "print()\n",
        "print(sample_y.shape)\n",
        "print(sample_y)"
      ],
      "execution_count": null,
      "outputs": [
        {
          "output_type": "stream",
          "text": [
            "torch.Size([10, 5])\n",
            "tensor([[ 20,  21,  22,  23,  24],\n",
            "        [  6,   7,   8,   9,  10],\n",
            "        [ 33,  34,  35,  36,  37],\n",
            "        [ 40,  41,  42,  43,  44],\n",
            "        [ 23,  24,  25,  26,  27],\n",
            "        [ 22,  23,  24,  25,  26],\n",
            "        [ 43,  44,  45,  46,  47],\n",
            "        [ 32,  33,  34,  35,  36],\n",
            "        [ 30,  31,  32,  33,  34],\n",
            "        [  4,   5,   6,   7,   8]])\n",
            "\n",
            "torch.Size([10])\n",
            "tensor([ 25,  11,  38,  45,  28,  27,  48,  37,  35,   9])\n"
          ],
          "name": "stdout"
        }
      ]
    },
    {
      "cell_type": "markdown",
      "metadata": {
        "id": "OG0flgyLio7w"
      },
      "source": [
        "---\n",
        "## Build the Neural Network\n",
        "Implementing a RNN using PyTorch's [Module class](http://pytorch.org/docs/master/nn.html#torch.nn.Module). LSTM is used here. \n",
        "\n",
        "\n",
        "The output of this model would be the *last* batch of word scores after a complete sequence has been processed. That is, for each input sequence of words, the output would be the word score for the single most likely next word."
      ]
    },
    {
      "cell_type": "code",
      "metadata": {
        "id": "kk14NS19io7x"
      },
      "source": [
        "import torch.nn as nn\n",
        "\n",
        "class RNN(nn.Module):\n",
        "    \n",
        "    def __init__(self, vocab_size, output_size, embedding_dim, hidden_dim, n_layers, dropout=0.5):\n",
        "        \"\"\"\n",
        "        Initialize the PyTorch RNN Module\n",
        "\n",
        "        Input:\n",
        "        vocab_size: The number of input dimensions of the neural network (the size of the vocabulary)\n",
        "        output_size: The number of output dimensions of the neural network\n",
        "        embedding_dim: The size of embeddings, should you choose to use them        \n",
        "        hidden_dim: The size of the hidden layer outputs\n",
        "        dropout: dropout to add in between LSTM/GRU layers\n",
        "        \"\"\"\n",
        "        \n",
        "        super(RNN, self).__init__()\n",
        "        # setting class variables\n",
        "        self.output_size = output_size\n",
        "        self.n_layers = n_layers\n",
        "        self.hidden_dim = hidden_dim\n",
        "        \n",
        "        # defining model layers\n",
        "        self.embed = nn.Embedding(vocab_size, embedding_dim)\n",
        "        self.lstm = nn.LSTM(embedding_dim, hidden_dim, n_layers, dropout=dropout, batch_first=True)\n",
        "        self.output = nn.Linear(hidden_dim, output_size)\n",
        "    \n",
        "    def forward(self, nn_input, hidden):\n",
        "        \"\"\"\n",
        "        Forward propagation of the neural network\n",
        "\n",
        "        Input:\n",
        "        nn_input: The input to the neural network\n",
        "        hidden: The hidden state        \n",
        "        \n",
        "        Output:\n",
        "        return: Two Tensors, the output of the neural network and the latest hidden state\n",
        "        \"\"\"\n",
        "\n",
        "        batch_size = nn_input.size(0)\n",
        "        \n",
        "        nn_input = nn_input.long()\n",
        "        embed_out = self.embed(nn_input)\n",
        "        lstm_out, hidden = self.lstm(embed_out, hidden)\n",
        "        \n",
        "        lstm_out = lstm_out.contiguous().view(-1, self.hidden_dim)\n",
        "        \n",
        "        out = self.output(lstm_out)\n",
        "        out = out.view(batch_size, -1, self.output_size)\n",
        "        output = out[:,-1]\n",
        "        \n",
        "\n",
        "        # returning one batch of output word scores and the hidden state\n",
        "        return output, hidden\n",
        "    \n",
        "    \n",
        "    def init_hidden(self, batch_size):\n",
        "        '''\n",
        "        Initialize the hidden state of an LSTM\n",
        "\n",
        "        Input:\n",
        "        batch_size: The batch_size of the hidden state\n",
        "        \n",
        "        Output:\n",
        "        return: hidden state of dims (n_layers, batch_size, hidden_dim)\n",
        "        '''\n",
        "        \n",
        "        # initializing hidden state with zero weights, and move to GPU if available\n",
        "        \n",
        "        weight = next(self.parameters()).data\n",
        "        \n",
        "        if (train_on_gpu):\n",
        "            hidden = (weight.new(self.n_layers, batch_size, self.hidden_dim).zero_().cuda(),\n",
        "                  weight.new(self.n_layers, batch_size, self.hidden_dim).zero_().cuda())\n",
        "        else:\n",
        "            hidden = (weight.new(self.n_layers, batch_size, self.hidden_dim).zero_(),\n",
        "                      weight.new(self.n_layers, batch_size, self.hidden_dim).zero_())\n",
        "        \n",
        "        return hidden"
      ],
      "execution_count": null,
      "outputs": []
    },
    {
      "cell_type": "markdown",
      "metadata": {
        "id": "uxrPSMmuio7y"
      },
      "source": [
        "### Defining forward and backpropagation\n",
        "\n",
        "The implemented RNN class is used to apply forward and back propagation. This function will be called, iteratively, in the training loop as follows:\n",
        "```\n",
        "loss = forward_back_prop(decoder, decoder_optimizer, criterion, inp, target)\n",
        "```\n",
        "\n",
        "And it would return the average loss over a batch and the hidden state returned by a call to `RNN(inp, hidden)`.\n",
        "\n",
        "If a GPU is available, you should move your data to that GPU device, here."
      ]
    },
    {
      "cell_type": "code",
      "metadata": {
        "id": "uRWPFR-cio7z"
      },
      "source": [
        "def forward_back_prop(rnn, optimizer, criterion, inp, target, hidden):\n",
        "    \"\"\"\n",
        "    Forward and backward propagation on the neural network\n",
        "    \n",
        "    Input:\n",
        "    decoder: The PyTorch Module that holds the neural network\n",
        "    decoder_optimizer: The PyTorch optimizer for the neural network\n",
        "    criterion: The PyTorch loss function\n",
        "    inp: A batch of input to the neural network\n",
        "    target: The target output for the batch of input\n",
        "    \n",
        "    Output:\n",
        "    return: The loss and the latest hidden state Tensor\n",
        "    \"\"\"\n",
        " \n",
        "    # move data to GPU, if available\n",
        "    device = 'cuda' if torch.cuda.is_available() else 'cpu'\n",
        "    inp, target = inp.to(device), target.to(device)\n",
        "    \n",
        "    hidden = tuple([each.data for each in hidden])\n",
        "    \n",
        "    rnn.zero_grad()\n",
        "    # perform backpropagation and optimization\n",
        "    output, hidden = rnn(inp, hidden)\n",
        "    loss = criterion(output, target)\n",
        "    loss.backward()\n",
        "    \n",
        "    # 'clip_grad_norm' helps prevent the exploding gradient problem in RNNs / LSTMs\n",
        "    nn.utils.clip_grad_norm_(rnn.parameters(), 5)\n",
        "    \n",
        "    optimizer.step()\n",
        "\n",
        "    # return the loss over a batch and the hidden state produced by the model\n",
        "    return loss.item(), hidden"
      ],
      "execution_count": null,
      "outputs": []
    },
    {
      "cell_type": "markdown",
      "metadata": {
        "id": "W32UnyJ0io70"
      },
      "source": [
        "## Neural Network Training\n",
        "\n",
        "With the structure of the network complete and data ready to be fed in the neural network, it's time to train it.\n",
        "\n",
        "### Train Loop\n",
        "\n",
        "The training loop is implemented in the `train_decoder` function. This function will train the network over all the batches for the number of epochs given. The model progress will be shown every number of batches. This number is set with the `show_every_n_batches` parameter."
      ]
    },
    {
      "cell_type": "code",
      "metadata": {
        "id": "mYyY8D0jio71"
      },
      "source": [
        "def train_rnn(rnn, batch_size, optimizer, criterion, n_epochs, show_every_n_batches=100):\n",
        "    batch_losses = []\n",
        "    \n",
        "    rnn.train()\n",
        "\n",
        "    print(\"Training for %d epoch(s)...\" % n_epochs)\n",
        "    for epoch_i in range(1, n_epochs + 1):\n",
        "        \n",
        "        # initialize hidden state\n",
        "        hidden = rnn.init_hidden(batch_size)\n",
        "        \n",
        "        for batch_i, (inputs, labels) in enumerate(train_loader, 1):\n",
        "            \n",
        "            # to make sure to iterate over completely full batches, only\n",
        "            n_batches = len(train_loader.dataset)//batch_size\n",
        "            if(batch_i > n_batches):\n",
        "                break\n",
        "            \n",
        "            # forward, back prop\n",
        "            loss, hidden = forward_back_prop(rnn, optimizer, criterion, inputs, labels, hidden)          \n",
        "            # record loss\n",
        "            batch_losses.append(loss)\n",
        "\n",
        "            # printing loss stats\n",
        "            if batch_i % show_every_n_batches == 0:\n",
        "                print('Epoch: {:>4}/{:<4}  Loss: {}\\n'.format(\n",
        "                    epoch_i, n_epochs, np.average(batch_losses)))\n",
        "                batch_losses = []\n",
        "\n",
        "    # returns a trained rnn\n",
        "    return rnn"
      ],
      "execution_count": null,
      "outputs": []
    },
    {
      "cell_type": "markdown",
      "metadata": {
        "id": "mfc0pCUwio72"
      },
      "source": [
        "### Hyperparameters\n",
        "\n",
        "Training the neural network with the following parameters:\n",
        "- `sequence_length` to the length of a sequence.\n",
        "-  `batch_size` to the batch size.\n",
        "-  `num_epochs` to the number of epochs to train for.\n",
        "- `learning_rate` to the learning rate for an Adam optimizer.\n",
        "-  `vocab_size` to the number of uniqe tokens in our vocabulary.\n",
        "- `output_size` to the desired size of the output.\n",
        "-  `embedding_dim` to the embedding dimension; smaller than the vocab_size.\n",
        "-  `hidden_dim` to the hidden dimension of your RNN.\n",
        "-  `n_layers` to the number of layers/cells in your RNN.\n",
        "-  `show_every_n_batches` to the number of batches at which the neural network should print progress."
      ]
    },
    {
      "cell_type": "code",
      "metadata": {
        "id": "bPcGrpbDio72",
        "outputId": "e98819c5-5621-42cd-9903-d5f10aa0465b"
      },
      "source": [
        "# Data params\n",
        "# Sequence Length\n",
        "sequence_length = 50  # of words in a sequence\n",
        "# Batch Size\n",
        "batch_size = 128\n",
        "\n",
        "# data loader - do not change\n",
        "train_loader = batch_data(int_text, sequence_length, batch_size)\n",
        "torch.save(train_loader, 'dataloader.pth')\n",
        "torch.load('dataloader.pth')"
      ],
      "execution_count": null,
      "outputs": [
        {
          "output_type": "execute_result",
          "data": {
            "text/plain": [
              "<torch.utils.data.dataloader.DataLoader at 0x7f9a135bfe48>"
            ]
          },
          "metadata": {
            "tags": []
          },
          "execution_count": 29
        }
      ]
    },
    {
      "cell_type": "code",
      "metadata": {
        "id": "aiiBf7Zmio73"
      },
      "source": [
        "# Training parameters\n",
        "# Number of Epochs\n",
        "num_epochs = 10\n",
        "# Learning Rate\n",
        "learning_rate = 0.001\n",
        "\n",
        "# Model parameters\n",
        "# Vocab size\n",
        "vocab_size = len(vocab_to_int)\n",
        "# Output size\n",
        "output_size = len(vocab_to_int)\n",
        "# Embedding Dimension\n",
        "embedding_dim = 300\n",
        "# Hidden Dimension\n",
        "hidden_dim = 256\n",
        "# Number of RNN Layers\n",
        "n_layers = 2\n",
        "\n",
        "# Show stats for every n number of batches\n",
        "show_every_n_batches = 500"
      ],
      "execution_count": null,
      "outputs": []
    },
    {
      "cell_type": "markdown",
      "metadata": {
        "id": "dCGu4iNpio74"
      },
      "source": [
        "### Train\n",
        "The next cell will train the neural network on the pre-processed data."
      ]
    },
    {
      "cell_type": "code",
      "metadata": {
        "scrolled": true,
        "id": "WDIMAFPkio74",
        "outputId": "8363aae9-3d04-4312-f27a-756a005c66a0"
      },
      "source": [
        "# create model and move to gpu if available\n",
        "rnn = RNN(vocab_size, output_size, embedding_dim, hidden_dim, n_layers, dropout=0.5)\n",
        "if train_on_gpu:\n",
        "    rnn.cuda()\n",
        "\n",
        "# defining loss and optimization functions for training\n",
        "optimizer = torch.optim.Adam(rnn.parameters(), lr=learning_rate)\n",
        "criterion = nn.CrossEntropyLoss()\n",
        "\n",
        "# training the model\n",
        "trained_rnn = train_rnn(rnn, batch_size, optimizer, criterion, num_epochs, show_every_n_batches)\n",
        "\n",
        "# saving the trained model\n",
        "def save_model(filename, decoder):\n",
        "    save_filename = os.path.splitext(os.path.basename(filename))[0] + '.pt'\n",
        "    torch.save(decoder, save_filename)\n",
        "\n",
        "save_model('./save/trained_rnn', trained_rnn)\n",
        "print('Model Trained and Saved')"
      ],
      "execution_count": null,
      "outputs": [
        {
          "output_type": "stream",
          "text": [
            "Training for 10 epoch(s)...\n",
            "Epoch:    1/10    Loss: 5.463102088928222\n",
            "\n",
            "Epoch:    1/10    Loss: 4.850352227687836\n",
            "\n",
            "Epoch:    1/10    Loss: 4.596398238182068\n",
            "\n",
            "Epoch:    1/10    Loss: 4.500200746059417\n",
            "\n",
            "Epoch:    1/10    Loss: 4.386232285499573\n",
            "\n",
            "Epoch:    1/10    Loss: 4.342856774330139\n",
            "\n",
            "Epoch:    1/10    Loss: 4.2818917708396915\n",
            "\n",
            "Epoch:    1/10    Loss: 4.2593809499740605\n",
            "\n",
            "Epoch:    1/10    Loss: 4.211174781322479\n",
            "\n",
            "Epoch:    1/10    Loss: 4.200193108558655\n",
            "\n",
            "Epoch:    1/10    Loss: 4.141652512073517\n",
            "\n",
            "Epoch:    1/10    Loss: 4.1599180793762205\n",
            "\n",
            "Epoch:    1/10    Loss: 4.153071348667145\n",
            "\n",
            "Epoch:    2/10    Loss: 3.9993373478247114\n",
            "\n",
            "Epoch:    2/10    Loss: 3.944969476222992\n",
            "\n",
            "Epoch:    2/10    Loss: 3.9294598569869996\n",
            "\n",
            "Epoch:    2/10    Loss: 3.93143209695816\n",
            "\n",
            "Epoch:    2/10    Loss: 3.9330968589782715\n",
            "\n",
            "Epoch:    2/10    Loss: 3.9054547185897825\n",
            "\n",
            "Epoch:    2/10    Loss: 3.9111528248786924\n",
            "\n",
            "Epoch:    2/10    Loss: 3.9114336414337156\n",
            "\n",
            "Epoch:    2/10    Loss: 3.8835342803001405\n",
            "\n",
            "Epoch:    2/10    Loss: 3.8917763333320616\n",
            "\n",
            "Epoch:    2/10    Loss: 3.8502141284942626\n",
            "\n",
            "Epoch:    2/10    Loss: 3.880769092082977\n",
            "\n",
            "Epoch:    2/10    Loss: 3.8781440773010254\n",
            "\n",
            "Epoch:    3/10    Loss: 3.7773796152477424\n",
            "\n",
            "Epoch:    3/10    Loss: 3.7303956627845762\n",
            "\n",
            "Epoch:    3/10    Loss: 3.7170527319908144\n",
            "\n",
            "Epoch:    3/10    Loss: 3.710619718551636\n",
            "\n",
            "Epoch:    3/10    Loss: 3.708244993686676\n",
            "\n",
            "Epoch:    3/10    Loss: 3.7235819725990296\n",
            "\n",
            "Epoch:    3/10    Loss: 3.705336034297943\n",
            "\n",
            "Epoch:    3/10    Loss: 3.7097777442932127\n",
            "\n",
            "Epoch:    3/10    Loss: 3.728637496471405\n",
            "\n",
            "Epoch:    3/10    Loss: 3.7188232827186583\n",
            "\n",
            "Epoch:    3/10    Loss: 3.730369734764099\n",
            "\n",
            "Epoch:    3/10    Loss: 3.740860311508179\n",
            "\n",
            "Epoch:    3/10    Loss: 3.742057499885559\n",
            "\n",
            "Epoch:    4/10    Loss: 3.670045251442381\n",
            "\n",
            "Epoch:    4/10    Loss: 3.5681505923271177\n",
            "\n",
            "Epoch:    4/10    Loss: 3.5688459930419922\n",
            "\n",
            "Epoch:    4/10    Loss: 3.5917440404891967\n",
            "\n",
            "Epoch:    4/10    Loss: 3.5969383125305177\n",
            "\n",
            "Epoch:    4/10    Loss: 3.6275501098632814\n",
            "\n",
            "Epoch:    4/10    Loss: 3.607847731590271\n",
            "\n",
            "Epoch:    4/10    Loss: 3.601265303134918\n",
            "\n",
            "Epoch:    4/10    Loss: 3.6169240870475767\n",
            "\n",
            "Epoch:    4/10    Loss: 3.585979424953461\n",
            "\n",
            "Epoch:    4/10    Loss: 3.617729726791382\n",
            "\n",
            "Epoch:    4/10    Loss: 3.6403651657104494\n",
            "\n",
            "Epoch:    4/10    Loss: 3.649458873748779\n",
            "\n",
            "Epoch:    5/10    Loss: 3.5607432356058073\n",
            "\n",
            "Epoch:    5/10    Loss: 3.487224084854126\n",
            "\n",
            "Epoch:    5/10    Loss: 3.4919931092262266\n",
            "\n",
            "Epoch:    5/10    Loss: 3.50555299949646\n",
            "\n",
            "Epoch:    5/10    Loss: 3.5251763563156127\n",
            "\n",
            "Epoch:    5/10    Loss: 3.511247148990631\n",
            "\n",
            "Epoch:    5/10    Loss: 3.540909185409546\n",
            "\n",
            "Epoch:    5/10    Loss: 3.504950238227844\n",
            "\n",
            "Epoch:    5/10    Loss: 3.5358332772254943\n",
            "\n",
            "Epoch:    5/10    Loss: 3.5397196955680847\n",
            "\n",
            "Epoch:    5/10    Loss: 3.54352969789505\n",
            "\n",
            "Epoch:    5/10    Loss: 3.564911728858948\n",
            "\n",
            "Epoch:    5/10    Loss: 3.5585625128746035\n",
            "\n",
            "Epoch:    6/10    Loss: 3.4863760907295323\n",
            "\n",
            "Epoch:    6/10    Loss: 3.4006378421783445\n",
            "\n",
            "Epoch:    6/10    Loss: 3.4164952592849733\n",
            "\n",
            "Epoch:    6/10    Loss: 3.4250001745224\n",
            "\n",
            "Epoch:    6/10    Loss: 3.443228528499603\n",
            "\n",
            "Epoch:    6/10    Loss: 3.434187406539917\n",
            "\n",
            "Epoch:    6/10    Loss: 3.4519440960884094\n",
            "\n",
            "Epoch:    6/10    Loss: 3.4717523202896117\n",
            "\n",
            "Epoch:    6/10    Loss: 3.4858712520599364\n",
            "\n",
            "Epoch:    6/10    Loss: 3.4717531991004944\n",
            "\n",
            "Epoch:    6/10    Loss: 3.475857527256012\n",
            "\n",
            "Epoch:    6/10    Loss: 3.4905322632789613\n",
            "\n",
            "Epoch:    6/10    Loss: 3.4898825511932374\n",
            "\n",
            "Epoch:    7/10    Loss: 3.4286004861524284\n",
            "\n",
            "Epoch:    7/10    Loss: 3.3596086087226866\n",
            "\n",
            "Epoch:    7/10    Loss: 3.3556489906311033\n",
            "\n",
            "Epoch:    7/10    Loss: 3.394437773704529\n",
            "\n",
            "Epoch:    7/10    Loss: 3.372588074207306\n",
            "\n",
            "Epoch:    7/10    Loss: 3.3806623902320863\n",
            "\n",
            "Epoch:    7/10    Loss: 3.379355483055115\n",
            "\n",
            "Epoch:    7/10    Loss: 3.407294600009918\n",
            "\n",
            "Epoch:    7/10    Loss: 3.423060242652893\n",
            "\n",
            "Epoch:    7/10    Loss: 3.4202514085769655\n",
            "\n",
            "Epoch:    7/10    Loss: 3.4366892809867857\n",
            "\n",
            "Epoch:    7/10    Loss: 3.4225092296600343\n",
            "\n",
            "Epoch:    7/10    Loss: 3.4527511849403383\n",
            "\n",
            "Epoch:    8/10    Loss: 3.373447464024725\n",
            "\n",
            "Epoch:    8/10    Loss: 3.3000986852645875\n",
            "\n",
            "Epoch:    8/10    Loss: 3.294712136745453\n",
            "\n",
            "Epoch:    8/10    Loss: 3.32356276845932\n",
            "\n",
            "Epoch:    8/10    Loss: 3.318972484111786\n",
            "\n",
            "Epoch:    8/10    Loss: 3.358843431472778\n",
            "\n",
            "Epoch:    8/10    Loss: 3.3526605787277224\n",
            "\n",
            "Epoch:    8/10    Loss: 3.3587297925949096\n",
            "\n",
            "Epoch:    8/10    Loss: 3.382426642417908\n",
            "\n",
            "Epoch:    8/10    Loss: 3.3678517990112304\n",
            "\n",
            "Epoch:    8/10    Loss: 3.3960185422897338\n",
            "\n",
            "Epoch:    8/10    Loss: 3.3882407841682434\n",
            "\n",
            "Epoch:    8/10    Loss: 3.3956895809173586\n",
            "\n",
            "Epoch:    9/10    Loss: 3.3291502287072583\n",
            "\n",
            "Epoch:    9/10    Loss: 3.231792618751526\n",
            "\n",
            "Epoch:    9/10    Loss: 3.2745350618362425\n",
            "\n",
            "Epoch:    9/10    Loss: 3.2764946947097777\n",
            "\n",
            "Epoch:    9/10    Loss: 3.28747403049469\n",
            "\n",
            "Epoch:    9/10    Loss: 3.3021672954559325\n",
            "\n",
            "Epoch:    9/10    Loss: 3.302913846492767\n",
            "\n",
            "Epoch:    9/10    Loss: 3.32412624168396\n",
            "\n",
            "Epoch:    9/10    Loss: 3.3183005547523496\n",
            "\n",
            "Epoch:    9/10    Loss: 3.3398965158462524\n",
            "\n",
            "Epoch:    9/10    Loss: 3.3633206725120544\n",
            "\n",
            "Epoch:    9/10    Loss: 3.3632816376686097\n",
            "\n",
            "Epoch:    9/10    Loss: 3.376729872226715\n",
            "\n",
            "Epoch:   10/10    Loss: 3.300226923109086\n",
            "\n",
            "Epoch:   10/10    Loss: 3.2105711698532104\n",
            "\n",
            "Epoch:   10/10    Loss: 3.2316979327201842\n",
            "\n",
            "Epoch:   10/10    Loss: 3.2510038871765135\n",
            "\n",
            "Epoch:   10/10    Loss: 3.2538735637664793\n",
            "\n",
            "Epoch:   10/10    Loss: 3.2738814148902895\n",
            "\n",
            "Epoch:   10/10    Loss: 3.264370141506195\n",
            "\n",
            "Epoch:   10/10    Loss: 3.2916312789916993\n",
            "\n",
            "Epoch:   10/10    Loss: 3.279950780391693\n",
            "\n",
            "Epoch:   10/10    Loss: 3.307626097202301\n",
            "\n",
            "Epoch:   10/10    Loss: 3.3323529558181764\n",
            "\n",
            "Epoch:   10/10    Loss: 3.325556749343872\n",
            "\n",
            "Epoch:   10/10    Loss: 3.338075414180756\n",
            "\n",
            "Model Trained and Saved\n"
          ],
          "name": "stdout"
        },
        {
          "output_type": "stream",
          "text": [
            "/opt/conda/lib/python3.6/site-packages/torch/serialization.py:193: UserWarning: Couldn't retrieve source code for container of type RNN. It won't be checked for correctness upon loading.\n",
            "  \"type \" + obj.__name__ + \". It won't be checked \"\n"
          ],
          "name": "stderr"
        }
      ]
    },
    {
      "cell_type": "markdown",
      "metadata": {
        "id": "7NyqMRfDio76"
      },
      "source": [
        "---\n",
        "# Checkpoint\n",
        "\n",
        "After running the above training cell, the model will be saved by name, `trained_rnn`. This model could be used later to generate the TV scripts. \n",
        "\n",
        "There is a possibility to pause at this stage and resume the progress by running the next cell, which will load in the word:id dictionaries _and_ load in the saved model by name!"
      ]
    },
    {
      "cell_type": "code",
      "metadata": {
        "id": "qA6lBlhSio77"
      },
      "source": [
        "import torch\n",
        "\n",
        "def load_preprocess():\n",
        "    \"\"\"\n",
        "    Load the Preprocessed Training data and return them in batches of <batch_size> or less\n",
        "    \"\"\"\n",
        "    return pickle.load(open('preprocess.p', mode='rb'))\n",
        "\n",
        "def load_model(filename):\n",
        "    save_filename = os.path.splitext(os.path.basename(filename))[0] + '.pt'\n",
        "    return torch.load(save_filename)"
      ],
      "execution_count": null,
      "outputs": []
    },
    {
      "cell_type": "code",
      "metadata": {
        "id": "yQOJUdPhEy_r"
      },
      "source": [
        "_, vocab_to_int, int_to_vocab, token_dict = load_preprocess()\r\n",
        "trained_rnn = load_model('./save/trained_rnn')"
      ],
      "execution_count": null,
      "outputs": []
    },
    {
      "cell_type": "markdown",
      "metadata": {
        "id": "Emenu5M3io77"
      },
      "source": [
        "## Generate TV Script\n",
        "With the network trained and saved, it could be used to generate a new, \"fake\" Seinfeld TV script in this section.\n",
        "\n",
        "### Generate Text\n",
        "To generate the text, the network needs to start with a single word and repeat its predictions until it reaches a set length. the `generate` function could be used to do this. It takes a word id to start with, `prime_id`, and generates a set length of text, `predict_len`. Also note that it uses topk sampling to introduce some randomness in choosing the most likely next word, given an output set of word scores!"
      ]
    },
    {
      "cell_type": "code",
      "metadata": {
        "id": "zcJNQyrnio78"
      },
      "source": [
        "import torch.nn.functional as F\n",
        "\n",
        "def generate(rnn, prime_id, int_to_vocab, token_dict, pad_value, predict_len=100):\n",
        "    \"\"\"\n",
        "    Generate text using the neural network\n",
        "\n",
        "    Input:\n",
        "    decoder: The PyTorch Module that holds the trained neural network\n",
        "    prime_id: The word id to start the first prediction\n",
        "    int_to_vocab: Dict of word id keys to word values\n",
        "    token_dict: Dict of puncuation tokens keys to puncuation values\n",
        "    pad_value: The value used to pad a sequence\n",
        "    predict_len: The length of text to generate\n",
        "    \n",
        "    Output:\n",
        "    return: The generated text\n",
        "    \"\"\"\n",
        "    rnn.eval()\n",
        "    \n",
        "    # create a sequence (batch_size=1) with the prime_id\n",
        "    current_seq = np.full((1, sequence_length), pad_value)\n",
        "    current_seq[-1][-1] = prime_id\n",
        "    predicted = [int_to_vocab[prime_id]]\n",
        "    \n",
        "    for _ in range(predict_len):\n",
        "        if train_on_gpu:\n",
        "            current_seq = torch.LongTensor(current_seq).cuda()\n",
        "        else:\n",
        "            current_seq = torch.LongTensor(current_seq)\n",
        "        \n",
        "        # initialize the hidden state\n",
        "        hidden = rnn.init_hidden(current_seq.size(0))\n",
        "        \n",
        "        # get the output of the rnn\n",
        "        output, _ = rnn(current_seq, hidden)\n",
        "        \n",
        "        # get the next word probabilities\n",
        "        p = F.softmax(output, dim=1).data\n",
        "        if(train_on_gpu):\n",
        "            p = p.cpu() # move to cpu\n",
        "         \n",
        "        # use top_k sampling to get the index of the next word\n",
        "        top_k = 5\n",
        "        p, top_i = p.topk(top_k)\n",
        "        top_i = top_i.numpy().squeeze()\n",
        "        \n",
        "        # select the likely next word index with some element of randomness\n",
        "        p = p.numpy().squeeze()\n",
        "        word_i = np.random.choice(top_i, p=p/p.sum())\n",
        "        \n",
        "        # retrieve that word from the dictionary\n",
        "        word = int_to_vocab[word_i]\n",
        "        predicted.append(word)     \n",
        "        \n",
        "        # the generated word becomes the next \"current sequence\" and the cycle can continue\n",
        "        current_seq = np.roll(current_seq, -1, 1)\n",
        "        current_seq[-1][-1] = word_i\n",
        "    \n",
        "    gen_sentences = ' '.join(predicted)\n",
        "    \n",
        "    # Replace punctuation tokens\n",
        "    for key, token in token_dict.items():\n",
        "        ending = ' ' if key in ['\\n', '(', '\"'] else ''\n",
        "        gen_sentences = gen_sentences.replace(' ' + token.lower(), key)\n",
        "    gen_sentences = gen_sentences.replace('\\n ', '\\n')\n",
        "    gen_sentences = gen_sentences.replace('( ', '(')\n",
        "    \n",
        "    # return all the sentences\n",
        "    return gen_sentences"
      ],
      "execution_count": null,
      "outputs": []
    },
    {
      "cell_type": "markdown",
      "metadata": {
        "id": "Viej93gBio79"
      },
      "source": [
        "### Generate a New Script\n",
        "It's time to generate the text. Set `gen_length` to the length of TV script to be generated and set `prime_word` to one of the following to start the prediction:\n",
        "- \"jerry\"\n",
        "- \"elaine\"\n",
        "- \"george\"\n",
        "- \"kramer\"\n",
        "\n",
        "It is possible to set the prime word to _any word_ in our dictionary, but it's best to start with a name for generating a TV script. (or start with any other names from the original text file!)"
      ]
    },
    {
      "cell_type": "code",
      "metadata": {
        "id": "xBdqXkvJio79",
        "outputId": "58b67bc3-7d0d-4d22-ca36-d23d63723b1a"
      },
      "source": [
        "# run the cell multiple times to get different results!\n",
        "gen_length = 400 # modify the length to your preference\n",
        "prime_word = 'elaine' # name for starting the script\n",
        "\n",
        "pad_word = helper.SPECIAL_WORDS['PADDING']\n",
        "generated_script = generate(trained_rnn, vocab_to_int[prime_word + ':'], int_to_vocab, token_dict, vocab_to_int[pad_word], gen_length)\n",
        "print(generated_script)"
      ],
      "execution_count": null,
      "outputs": [
        {
          "output_type": "stream",
          "text": [
            "/opt/conda/lib/python3.6/site-packages/ipykernel_launcher.py:39: UserWarning: RNN module weights are not part of single contiguous chunk of memory. This means they need to be compacted at every call, possibly greatly increasing memory usage. To compact weights again call flatten_parameters().\n"
          ],
          "name": "stderr"
        },
        {
          "output_type": "stream",
          "text": [
            "elaine:(to vanessa, to vanessa)\n",
            "\n",
            "[setting: dealership office\n",
            "\n",
            "jerry: so?\n",
            "\n",
            "elaine: oh, i got a date.\n",
            "\n",
            "george: i know.\n",
            "\n",
            "jerry: you mean you don't want a drink?\n",
            "\n",
            "jerry: no. i can't believe it.\n",
            "\n",
            "jerry: well, you know, i'm not going to get some of these things.\n",
            "\n",
            "elaine: oh, you know i was in a mood of mine. i was in the mood with her. i mean, you know, i was just a little bit worried.\n",
            "\n",
            "jerry: oh, i can't believe it. i think i'm going to be here. you know, it's like, uh- i think i'm getting it off.\n",
            "\n",
            "jerry: what are you doing here?\n",
            "\n",
            "elaine: well i guess i could get a call.\n",
            "\n",
            "elaine: what?\n",
            "\n",
            "george: yeah.\n",
            "\n",
            "jerry: i don't know.\n",
            "\n",
            "george: you can't take a look at the car?\n",
            "\n",
            "jerry:(to jerry) hey hey, hey, what is the deal with this guy?\n",
            "\n",
            "george:(to jerry) oh, no, i'm sorry, i don't want it.\n",
            "\n",
            "george:(to kramer) oh, hi, i'm just sorry about the truth.(hangs up) you know, i think you're not really going to be in a while.\n",
            "\n",
            "george:(to elaine) i thought you were a communist.\n",
            "\n",
            "jerry:(pause) oh yeah?(to george) i don't even know.\n",
            "\n",
            "george: oh, i just don't want the keys. you know what i mean?\n",
            "\n",
            "elaine: no, it's not a good idea.\n",
            "\n",
            "kramer: hey..\n",
            "\n",
            "jerry: hey.\n",
            "\n",
            "george:(to jerry) hey! hey!\n",
            "\n",
            "kramer: hey!\n",
            "\n",
            "elaine: hey, jerry.\n",
            "\n",
            "elaine: hey.\n",
            "\n",
            "jerry: hey jerry, you want to see me, i gotta get a massage. you know, i can't get a massage.\n",
            "\n",
            "jerry:(to\n"
          ],
          "name": "stdout"
        }
      ]
    },
    {
      "cell_type": "markdown",
      "metadata": {
        "id": "RDSx_bVSio7-"
      },
      "source": [
        "#### Save the scripts\n",
        "\n",
        "Once the script is generated, save it to a text file!"
      ]
    },
    {
      "cell_type": "code",
      "metadata": {
        "id": "6nFAxVKZio7_"
      },
      "source": [
        "# save script to a text file\n",
        "f =  open(\"generated_script_1.txt\",\"w\")\n",
        "f.write(generated_script)\n",
        "f.close()"
      ],
      "execution_count": null,
      "outputs": []
    }
  ]
}